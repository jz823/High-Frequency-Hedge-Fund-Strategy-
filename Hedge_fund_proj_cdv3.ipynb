{
 "cells": [
  {
   "cell_type": "markdown",
   "id": "a444fde2",
   "metadata": {},
   "source": [
    "# Hedge Fund Group Project - Codes"
   ]
  },
  {
   "cell_type": "code",
   "execution_count": 9,
   "id": "d7981445",
   "metadata": {},
   "outputs": [],
   "source": [
    "import yfinance as yf\n",
    "\n",
    "import xgboost as xgb\n",
    "from sklearn.model_selection import train_test_split\n",
    "from sklearn.preprocessing import OneHotEncoder\n",
    "\n",
    "import numpy as np\n",
    "import pandas as pd\n",
    "import datetime as dt\n",
    "\n",
    "import matplotlib.pyplot as plt\n",
    "import seaborn as sns\n",
    "sns.set_theme()\n",
    "\n",
    "from sklearn.metrics import accuracy_score\n",
    "\n",
    "import matplotlib as mpl\n",
    "COLOR = 'white'\n",
    "mpl.rcParams['text.color'] = COLOR\n",
    "mpl.rcParams['axes.labelcolor'] = COLOR\n",
    "mpl.rcParams['xtick.color'] = COLOR\n",
    "mpl.rcParams['ytick.color'] = COLOR"
   ]
  },
  {
   "cell_type": "code",
   "execution_count": 10,
   "id": "a64d9eb3",
   "metadata": {},
   "outputs": [],
   "source": [
    "# up-or-down label threshold\n",
    "up_tres = 0.7\n",
    "down_tres = 0.3\n",
    "\n",
    "# how many days we use to calculate the historical beta for each ticker\n",
    "β_historical_days = 2\n",
    "\n",
    "# train ratio\n",
    "train_ratio = 0.5\n",
    "\n",
    "# in the ranking, how much good ones we long, how much bad ones we short\n",
    "long_percentile = 1/3\n",
    "short_percentile = 1/3\n",
    "\n",
    "trading_freq = 1\n",
    "\n",
    "# hyperparameter of the optimization problem\n",
    "λ = 0.7\n",
    "\n",
    "# maximum weigh in a portfolio\n",
    "max_weight = 0.1\n",
    "\n",
    "# total notional value\n",
    "notional = 1000000"
   ]
  },
  {
   "cell_type": "code",
   "execution_count": null,
   "id": "e53e80e0",
   "metadata": {},
   "outputs": [],
   "source": []
  },
  {
   "cell_type": "code",
   "execution_count": null,
   "id": "45e017a5",
   "metadata": {},
   "outputs": [],
   "source": []
  },
  {
   "cell_type": "code",
   "execution_count": 11,
   "id": "3a73b779",
   "metadata": {},
   "outputs": [],
   "source": [
    "stocks = yf.Tickers(['^GSPC','GOOGL', 'BLK','INCY', 'AOS',\n",
    "                     'HAL', 'JBHT', 'HSIC', 'AAP', 'WRB', 'KLAC',\n",
    "                     'CSCO', 'GL', 'REGN', 'QRVO', 'BIIB', \n",
    "                     'FRC', 'SNA', 'TROW', 'AMAT', 'TRV', 'CTSH',\n",
    "                     'ADM', 'LKQ', 'HIG', 'CBRE', 'RHI', 'SWKS', 'EXPD',\n",
    "                     'HBAN', 'RF', 'EOG', 'META', 'WY', 'CVX',  \n",
    "                     'BBY', 'ZION', 'COP', 'INTC', 'PFE', 'XOM', 'AFL', 'EQT', 'PXD',\n",
    "                     'SIVB', 'WBA', 'SBNY', 'MU', 'CF', 'MRNA', 'FANG',\n",
    "                     'MRO', 'TSN', 'LEN', 'CTRA', 'DHI', 'MOS',\n",
    "                     'PVH', 'NUE', 'PFG', 'PHM'])\n",
    "#NVR"
   ]
  },
  {
   "cell_type": "code",
   "execution_count": null,
   "id": "4571e2ba",
   "metadata": {},
   "outputs": [
    {
     "name": "stdout",
     "output_type": "stream",
     "text": [
      "[**********************97%********************** ]  59 of 61 completed"
     ]
    }
   ],
   "source": [
    "today = dt.datetime.today().date()\n",
    "start = today - dt.timedelta(30)\n",
    "end = today - dt.timedelta(1)\n",
    "\n",
    "date_list = []\n",
    "while start < end:\n",
    "    if start+dt.timedelta(6) < end: \n",
    "        date_list.append((dt.datetime.strftime(start,'%Y-%m-%d'),\n",
    "                        dt.datetime.strftime(start+dt.timedelta(6),'%Y-%m-%d')))\n",
    "    else:\n",
    "        date_list.append((dt.datetime.strftime(start,'%Y-%m-%d'),\n",
    "                        dt.datetime.strftime(end,'%Y-%m-%d')))               \n",
    "    start += dt.timedelta(7)\n",
    "#date_list\n",
    "\n",
    "for i,(start,end) in enumerate(date_list):\n",
    "    if i == 0:\n",
    "        df = stocks.history(start=start,end=end,interval='1m')\n",
    "    else:\n",
    "        df = pd.concat([df,stocks.history(start=start,interval='1m')],axis=0)\n",
    "df.head(5)"
   ]
  },
  {
   "cell_type": "code",
   "execution_count": null,
   "id": "e788746b",
   "metadata": {},
   "outputs": [],
   "source": [
    "df.Close = df.Close + df.Dividends\n",
    "df.drop(['Dividends','Stock Splits','Open'],axis=1,level=0,inplace=True)"
   ]
  },
  {
   "cell_type": "code",
   "execution_count": null,
   "id": "43f7bdfe",
   "metadata": {},
   "outputs": [],
   "source": [
    "df.drop_duplicates(inplace=True)\n",
    "df.sort_index(inplace=True)"
   ]
  },
  {
   "cell_type": "code",
   "execution_count": null,
   "id": "cfdaf72e",
   "metadata": {},
   "outputs": [],
   "source": [
    "df = df.bfill().ffill()\n",
    "df.dropna(axis=1,inplace=True)"
   ]
  },
  {
   "cell_type": "code",
   "execution_count": null,
   "id": "3ce6fac9",
   "metadata": {},
   "outputs": [],
   "source": [
    "def insert_df(df,small_df,lev_one_name):\n",
    "    small_df.columns = pd.MultiIndex.from_tuples([(lev_one_name,i) for i in small_df.columns])\n",
    "    return pd.concat((df,small_df),axis=1)"
   ]
  },
  {
   "cell_type": "markdown",
   "id": "0690356a",
   "metadata": {},
   "source": [
    "## Calculate stochastic_oscillator"
   ]
  },
  {
   "cell_type": "code",
   "execution_count": null,
   "id": "1ba16b75",
   "metadata": {},
   "outputs": [],
   "source": [
    "sto_Osci = (df['Close'] - df['Low'])/(df['High'] - df['Low'])\n",
    "sto_Osci[sto_Osci>1] = 1\n",
    "df = insert_df(df,sto_Osci,'stochastic_oscillator')"
   ]
  },
  {
   "cell_type": "markdown",
   "id": "4ecde1fb",
   "metadata": {},
   "source": [
    "## Calculate MA"
   ]
  },
  {
   "cell_type": "code",
   "execution_count": null,
   "id": "eb6dbf94",
   "metadata": {},
   "outputs": [
    {
     "name": "stdout",
     "output_type": "stream",
     "text": [
      "[**********************97%********************** ]  59 of 61 completed"
     ]
    }
   ],
   "source": [
    "MA = dict()\n",
    "for t in [7*i for i in [3,5,20,50,200]]:\n",
    "    MA[f'MA_{int(t/7)}'] = df.Close.rolling(window=t).mean()\n",
    "\n",
    "for i in [5,20,50,200]:\n",
    "    MA[f'MA3/{i}'] = MA['MA_3']/MA[f'MA_{i}']\n",
    "    df = insert_df(df,MA[f'MA3/{i}'],f'MA3/{i}')\n",
    "df = insert_df(df,MA['MA_20'],'MA_20')"
   ]
  },
  {
   "cell_type": "markdown",
   "id": "0467ae06",
   "metadata": {},
   "source": [
    "## Calculate Bollinger Bands indicators (20 days, 2 standard deviations)"
   ]
  },
  {
   "cell_type": "code",
   "execution_count": null,
   "id": "14beaf24",
   "metadata": {},
   "outputs": [],
   "source": [
    "Mstd = df.Close.rolling(window=20).std()\n",
    "over_sold = (df['MA_20'] - 2*Mstd - df['Close'])/df['Close']\n",
    "over_bought = (df['Close']- df['MA_20'] - 2*Mstd)/df['Close']\n",
    "df = insert_df(df,over_sold,'BB_over_sold')\n",
    "df = insert_df(df,over_bought,'BB_over_bought')\n",
    "df.drop('MA_20',axis=1,level=0,inplace=True)"
   ]
  },
  {
   "cell_type": "markdown",
   "id": "6c0c8576",
   "metadata": {},
   "source": [
    "## Calculate RSI"
   ]
  },
  {
   "cell_type": "code",
   "execution_count": null,
   "id": "6c7101b1",
   "metadata": {},
   "outputs": [],
   "source": [
    "HourReturns = df.Close.pct_change()\n",
    "RSI = (1 + HourReturns).apply(lambda x: x/(1+HourReturns['^GSPC']))\n",
    "RSI[RSI>2] = 2\n",
    "df = insert_df(df,RSI,'RSI')"
   ]
  },
  {
   "cell_type": "markdown",
   "id": "37fde27e",
   "metadata": {},
   "source": [
    "## Calculate labels"
   ]
  },
  {
   "cell_type": "code",
   "execution_count": null,
   "id": "c754862c",
   "metadata": {},
   "outputs": [],
   "source": [
    "log_return = (df.Close.pct_change()+1).apply(np.log)\n",
    "up_or_down = log_return.copy()\n",
    "up_or_down[(up_or_down.rank(pct=True)>up_tres) & (up_or_down > 0)] = 2\n",
    "up_or_down[(up_or_down.rank(pct=True)<down_tres) & (up_or_down < 0)] = 0\n",
    "up_or_down[(up_or_down != 2) & (up_or_down != 0)] = 1\n",
    "df = insert_df(df,up_or_down,'up_or_down')\n",
    "df['up_or_down'] = df['up_or_down'].astype(int)\n",
    "df['up_or_down'] = df['up_or_down'].shift(-1)"
   ]
  },
  {
   "cell_type": "code",
   "execution_count": null,
   "id": "1e3411c1",
   "metadata": {},
   "outputs": [],
   "source": [
    "df.bfill(inplace=True)\n",
    "df.dropna(axis=0,inplace=True)"
   ]
  },
  {
   "cell_type": "code",
   "execution_count": null,
   "id": "caebf9b5",
   "metadata": {},
   "outputs": [],
   "source": [
    "for stock in df.columns.get_level_values(1):\n",
    "    df['up_or_down',stock] = df['up_or_down',stock].astype(int)"
   ]
  },
  {
   "cell_type": "code",
   "execution_count": null,
   "id": "f0fa7479",
   "metadata": {},
   "outputs": [],
   "source": [
    "dfClose = df['Close']"
   ]
  },
  {
   "cell_type": "code",
   "execution_count": null,
   "id": "176663db",
   "metadata": {},
   "outputs": [],
   "source": [
    "df['High'] = df.High/df.Close\n",
    "df['Low'] = df.Low/df.Close\n",
    "df['Volume'] = (df['Close'].pct_change())*100\n",
    "df['Close'] = (df['Close'].pct_change())*100\n",
    "\n",
    "df.columns = df.columns.swaplevel(0, 1)\n",
    "df.sort_index(axis=1, level=0, inplace=True)\n",
    "df.bfill(inplace=True)\n",
    "df.dropna(inplace=True)"
   ]
  },
  {
   "cell_type": "code",
   "execution_count": null,
   "id": "824ec042",
   "metadata": {},
   "outputs": [],
   "source": []
  },
  {
   "cell_type": "code",
   "execution_count": null,
   "id": "490c8d6b",
   "metadata": {
    "scrolled": true
   },
   "outputs": [],
   "source": [
    "train_df = df.iloc[:int(train_ratio*df.shape[0])]\n",
    "test_df = df.iloc[int(train_ratio*df.shape[0])+1:]\n",
    "\n",
    "for stock in df.columns.get_level_values(0).unique():\n",
    "    xgbst = xgb.XGBClassifier(n_estimators=600,\n",
    "                          objective='multi:softprob', # same to the loss func as while training\n",
    "                        early_stopping_rounds=50, # 50 conseuctive performance decrease in validation set, then stop\n",
    "                        max_depth=3,\n",
    "                        eta=0.01,       # 0.01                 \n",
    "                        n_jobs=4,\n",
    "                        verbosity = 0,\n",
    "                        num_classes=3\n",
    "                       #tree_method = \"gpu_hist\"\n",
    "                      )\n",
    "\n",
    "    train_df[stock,'up_or_down'] =  train_df[stock,'up_or_down'].astype(int)\n",
    "    X_train, X_val, y_train, y_val = train_test_split(train_df[stock].drop('up_or_down',axis=1),\n",
    "                                                      train_df[stock]['up_or_down'],\n",
    "                                                      test_size=2/7, random_state=1998)\n",
    "    print(stock)\n",
    "    try:\n",
    "        xgbst.fit(X=X_train,y=y_train,eval_set = [(X_val,y_val)])\n",
    "    except ValueError:\n",
    "        y_train.iloc[0] = 1\n",
    "        xgbst.fit(X=X_train,y=y_train,eval_set = [(X_val,y_val)])\n",
    "    except XGBoostError:\n",
    "        test_df.drop(stock,level=0,axis=1,inplace=True)\n",
    "        continue\n",
    "    pred_prob = xgbst.predict_proba(test_df[stock].drop('up_or_down',axis=1))\n",
    "    pred = xgbst.predict(test_df[stock].drop('up_or_down',axis=1))\n",
    "    test_df[stock,'down_prob'] = pred_prob[:,0]\n",
    "    test_df[stock,'stable_prob'] = pred_prob[:,1]\n",
    "    test_df[stock,'up_prob'] = pred_prob[:,2]\n",
    "    test_df[stock,'pred'] = pred\n",
    "    "
   ]
  },
  {
   "cell_type": "code",
   "execution_count": null,
   "id": "6b5747bf",
   "metadata": {},
   "outputs": [],
   "source": []
  },
  {
   "cell_type": "code",
   "execution_count": null,
   "id": "3d4d0561",
   "metadata": {},
   "outputs": [],
   "source": [
    "fig,ax = plt.subplots(figsize=(12,7))\n",
    "ax.plot(test_df.CVX['up_prob'].iloc[50:70])\n",
    "ax2 = ax.twinx()\n",
    "ax.set_ylim([0,0.3])\n",
    "ax2.plot(test_df.CVX['Close'].shift(-1).iloc[50:70],color='Salmon')"
   ]
  },
  {
   "cell_type": "code",
   "execution_count": null,
   "id": "92ec0b19",
   "metadata": {
    "scrolled": true
   },
   "outputs": [],
   "source": [
    "test_df.head(3)"
   ]
  },
  {
   "cell_type": "code",
   "execution_count": null,
   "id": "521e819d",
   "metadata": {},
   "outputs": [],
   "source": [
    "test_df.columns = test_df.columns.swaplevel(0, 1)\n",
    "test_df.sort_index(axis=1, level=0, inplace=True)"
   ]
  },
  {
   "cell_type": "code",
   "execution_count": null,
   "id": "3e1bbe64",
   "metadata": {},
   "outputs": [],
   "source": [
    "test_df.head(5)"
   ]
  },
  {
   "cell_type": "markdown",
   "id": "5713c6b2",
   "metadata": {},
   "source": [
    "# Calculate $\\beta$"
   ]
  },
  {
   "cell_type": "code",
   "execution_count": null,
   "id": "f6aa106a",
   "metadata": {},
   "outputs": [],
   "source": [
    "pct_change = test_df['Close'].copy()\n",
    "for col in pct_change.columns:\n",
    "    pct_change[col+'*SP'] = pct_change[col] * pct_change['^GSPC']\n",
    "pct_change['SP^2'] = pct_change['^GSPC']**2\n",
    "\n",
    "rolling_mean = pct_change.rolling(window=7*β_historical_days).mean()\n",
    "β = pd.DataFrame(index = pct_change.index)\n",
    "for col in test_df['Close'].columns:\n",
    "    β[col] = (rolling_mean[col+'*SP'] - rolling_mean['^GSPC']*rolling_mean[col])/(rolling_mean['SP^2'] - rolling_mean['^GSPC']**2)\n",
    "\n",
    "test_df = insert_df(test_df,β,'beta')"
   ]
  },
  {
   "cell_type": "code",
   "execution_count": null,
   "id": "7e8d8b69",
   "metadata": {
    "scrolled": true
   },
   "outputs": [],
   "source": [
    "test_df"
   ]
  },
  {
   "cell_type": "code",
   "execution_count": null,
   "id": "3ef0ed1b",
   "metadata": {
    "scrolled": true
   },
   "outputs": [],
   "source": [
    "import cvxpy as cp"
   ]
  },
  {
   "cell_type": "code",
   "execution_count": null,
   "id": "205246cf",
   "metadata": {},
   "outputs": [],
   "source": [
    "test_df = test_df.dropna(axis=0)\n",
    "\n",
    "i = 0\n",
    "T = len(test_df.index)\n",
    "\n",
    "n_stocks = len(test_df['Close'].columns)\n",
    "n_longs = int(n_stocks*long_percentile)\n",
    "n_shorts = int(n_stocks*short_percentile)\n",
    "\n",
    "trading_weights = pd.DataFrame(columns=test_df['Close'].columns,\n",
    "                              index=test_df.index)"
   ]
  },
  {
   "cell_type": "code",
   "execution_count": null,
   "id": "57bb7be9",
   "metadata": {},
   "outputs": [],
   "source": [
    "test_df.head(5)"
   ]
  },
  {
   "cell_type": "code",
   "execution_count": null,
   "id": "5c57aee7",
   "metadata": {},
   "outputs": [],
   "source": [
    "while i < T - 1:\n",
    "    ind = test_df.index[i]\n",
    "    up_p = test_df['up_prob'].iloc[i]\n",
    "    down_p = test_df['down_prob'].iloc[i]\n",
    "    beta = test_df['beta'].iloc[i]\n",
    "    longs = up_p.rank()[up_p.rank()>n_stocks-n_longs].index\n",
    "    shorts = down_p.rank()[down_p.rank()>n_stocks-n_shorts].index\n",
    "\n",
    "    up_p = up_p[longs]\n",
    "    down_p = down_p[shorts]\n",
    "\n",
    "    portfolio = np.concatenate([longs,shorts])\n",
    "\n",
    "    # cal c\n",
    "    c = np.concatenate([up_p[longs],\n",
    "                        down_p[shorts]])\n",
    "\n",
    "    # assemble A_eq\n",
    "    β_row = np.concatenate([beta[longs].to_numpy(),\n",
    "                           -beta[shorts].to_numpy()])\n",
    "    long_row = np.concatenate([np.ones(n_longs),\n",
    "                                np.zeros(n_shorts)])\n",
    "    short_row = np.concatenate([np.zeros(n_longs),\n",
    "                                np.ones(n_shorts)])\n",
    "    A_eq = np.concatenate([β_row.reshape(1,-1),\n",
    "                          long_row.reshape(1,-1),\n",
    "                          short_row.reshape(1,-1)],axis=0)\n",
    "\n",
    "    # cal b_eq\n",
    "    b_eq = np.array([0,1,1])\n",
    "\n",
    "    # cal bounds\n",
    "    bounds = [[0,1]]*(n_longs+n_shorts)\n",
    "\n",
    "    # convex optimization\n",
    "    x = cp.Variable((n_longs+n_shorts,1))\n",
    "    objective = cp.Minimize(-(λ*c)@x + (1-λ)*cp.sum_squares(β_row@x))\n",
    "    constraints = [long_row@x==1,short_row@x==1,0 <= x, x <= max_weight]\n",
    "    prob = cp.Problem(objective, constraints)\n",
    "\n",
    "    result = prob.solve(solver=cp.ECOS)\n",
    "    \n",
    "    # summarize\n",
    "    res = x.value.flatten()\n",
    "        \n",
    "    opt_weights = pd.Series(res,index=portfolio)\n",
    "    opt_weights[shorts] = -opt_weights[shorts]\n",
    "    if not opt_weights.index.is_unique:\n",
    "        dup_term = opt_weights[opt_weights.index.duplicated()]\n",
    "        opt_weights[dup_term.index] = opt_weights[dup_term.index] + dup_term\n",
    "        opt_weights = opt_weights[~opt_weights.index.duplicated()]\n",
    "    trading_weights.loc[ind] = opt_weights\n",
    "    #print(f'row{i} finished',end=' ')\n",
    "    i += trading_freq"
   ]
  },
  {
   "cell_type": "code",
   "execution_count": null,
   "id": "35592ebb",
   "metadata": {},
   "outputs": [],
   "source": [
    "trading_weights.head(6)"
   ]
  },
  {
   "cell_type": "code",
   "execution_count": null,
   "id": "5c3e83b2",
   "metadata": {},
   "outputs": [],
   "source": [
    "trading_weights.sum(axis=1).mean()"
   ]
  },
  {
   "cell_type": "markdown",
   "id": "95e1900c",
   "metadata": {},
   "source": [
    "# Calculate portfolio $\\beta$"
   ]
  },
  {
   "cell_type": "code",
   "execution_count": null,
   "id": "e68be249",
   "metadata": {
    "scrolled": true
   },
   "outputs": [],
   "source": [
    "trading_weights_for_plot = trading_weights.fillna(0).iloc[100:130,1:10]\n",
    "sns.set(rc={'figure.figsize':(30,10)})\n",
    "sns.heatmap(trading_weights_for_plot.T)"
   ]
  },
  {
   "cell_type": "code",
   "execution_count": null,
   "id": "0a963f48",
   "metadata": {},
   "outputs": [],
   "source": [
    "trading_weights"
   ]
  },
  {
   "cell_type": "code",
   "execution_count": null,
   "id": "2ac05e17",
   "metadata": {},
   "outputs": [],
   "source": [
    "port_beta = (test_df['beta']*trading_weights).sum(axis=1)"
   ]
  },
  {
   "cell_type": "code",
   "execution_count": null,
   "id": "d9d815d4",
   "metadata": {},
   "outputs": [],
   "source": [
    "port_beta.mean()"
   ]
  },
  {
   "cell_type": "code",
   "execution_count": null,
   "id": "c72dd173",
   "metadata": {},
   "outputs": [],
   "source": [
    "trading_weights.head(10)"
   ]
  },
  {
   "cell_type": "code",
   "execution_count": null,
   "id": "03264ae2",
   "metadata": {},
   "outputs": [],
   "source": [
    "test_df.head(10)"
   ]
  },
  {
   "cell_type": "markdown",
   "id": "6afb8fd3",
   "metadata": {},
   "source": [
    "# Calculate the number of shares we hold in each hour"
   ]
  },
  {
   "cell_type": "code",
   "execution_count": null,
   "id": "464bfc83",
   "metadata": {},
   "outputs": [],
   "source": [
    "test_df['Close'] = dfClose.ffill().bfill()"
   ]
  },
  {
   "cell_type": "code",
   "execution_count": null,
   "id": "f95e1df5",
   "metadata": {},
   "outputs": [],
   "source": []
  },
  {
   "cell_type": "code",
   "execution_count": null,
   "id": "fd257955",
   "metadata": {
    "scrolled": true
   },
   "outputs": [],
   "source": [
    "positions = (trading_weights * notional/test_df['Close'])\n",
    "positions = positions.fillna(0).astype(int)"
   ]
  },
  {
   "cell_type": "code",
   "execution_count": null,
   "id": "14d3557d",
   "metadata": {},
   "outputs": [],
   "source": [
    "test_df['Close']"
   ]
  },
  {
   "cell_type": "code",
   "execution_count": null,
   "id": "46a53d7e",
   "metadata": {},
   "outputs": [],
   "source": [
    "for_plot = ((test_df.Close.pct_change().shift(-1) * trading_weights).sum(axis=1) + 1).cumprod()"
   ]
  },
  {
   "cell_type": "code",
   "execution_count": null,
   "id": "12712129",
   "metadata": {},
   "outputs": [],
   "source": [
    "for_plot.name = 'cumprod'"
   ]
  },
  {
   "cell_type": "code",
   "execution_count": null,
   "id": "bc12040a",
   "metadata": {},
   "outputs": [],
   "source": [
    "for_plot = for_plot.reset_index()"
   ]
  },
  {
   "cell_type": "code",
   "execution_count": null,
   "id": "e59deda8",
   "metadata": {},
   "outputs": [],
   "source": [
    "for_plot"
   ]
  },
  {
   "cell_type": "code",
   "execution_count": null,
   "id": "9707d65b",
   "metadata": {},
   "outputs": [],
   "source": [
    "fix,ax = plt.subplots(figsize=(12,7))\n",
    "ax.plot(for_plot['cumprod'])"
   ]
  },
  {
   "cell_type": "code",
   "execution_count": null,
   "id": "ec5bd16d",
   "metadata": {},
   "outputs": [],
   "source": [
    "import numpy as np\n",
    "from sklearn import tree\n",
    "from sklearn.tree import DecisionTreeClassifier"
   ]
  },
  {
   "cell_type": "code",
   "execution_count": null,
   "id": "8f5b0696",
   "metadata": {},
   "outputs": [],
   "source": [
    "tree_class1 = DecisionTreeClassifier(max_depth=3,\n",
    "                                    random_state=1998\n",
    "                                    )\n",
    "ticker = 'PFE'\n",
    "X = train_df[ticker].drop('up_or_down',axis=1)\n",
    "y = train_df[ticker]['up_or_down']\n",
    "\n",
    "tree_class1.fit(X,y)"
   ]
  },
  {
   "cell_type": "code",
   "execution_count": null,
   "id": "9eed481d",
   "metadata": {},
   "outputs": [],
   "source": [
    "COLOR = 'black'\n",
    "mpl.rcParams['text.color'] = COLOR\n",
    "mpl.rcParams['axes.labelcolor'] = COLOR\n",
    "mpl.rcParams['xtick.color'] = COLOR\n",
    "mpl.rcParams['ytick.color'] = COLOR\n",
    "plt.figure(figsize=(18,11))\n",
    "treeplot = tree.plot_tree(tree_class1,feature_names=X.columns,class_names=['sell','hold','buy'],fontsize=12)\n",
    "#treeplot.get_bbox_patch().set_facecolor('w')"
   ]
  },
  {
   "cell_type": "code",
   "execution_count": null,
   "id": "c80a11c6",
   "metadata": {},
   "outputs": [],
   "source": [
    "test_df.High.CVX"
   ]
  },
  {
   "cell_type": "code",
   "execution_count": null,
   "id": "eee2fbc6",
   "metadata": {},
   "outputs": [],
   "source": [
    "pos_df = positions.copy()\n",
    "clo_df = test_df['Close'].copy()"
   ]
  },
  {
   "cell_type": "code",
   "execution_count": null,
   "id": "6e6f3e15",
   "metadata": {},
   "outputs": [],
   "source": []
  },
  {
   "cell_type": "code",
   "execution_count": null,
   "id": "23541801",
   "metadata": {},
   "outputs": [],
   "source": [
    "pos_df"
   ]
  },
  {
   "cell_type": "code",
   "execution_count": null,
   "id": "9682530a",
   "metadata": {},
   "outputs": [],
   "source": [
    "clo_df.head(5)"
   ]
  },
  {
   "cell_type": "code",
   "execution_count": null,
   "id": "d652e307",
   "metadata": {},
   "outputs": [],
   "source": [
    "commission_per_share = 0.001\n",
    "\n",
    "\n",
    "\n",
    "port_df = pd.DataFrame(index=positions.index)\n",
    "# plug in beta\n",
    "port_df['beta'] = port_beta\n",
    "\n",
    "# position value now\n",
    "port_df['now_val'] = (pos_df * clo_df).sum(axis=1)\n",
    "\n",
    "# position value if we hold the current position to the next minute\n",
    "port_df['next_val'] = (pos_df.shift(1) * clo_df).sum(axis=1).shift(-1)\n",
    "\n",
    "# pnl within next minute\n",
    "port_df['minu_pnl'] = port_df['next_val'] - port_df['now_val']\n",
    "port_df['minu_ret'] = port_df['minu_pnl']/notional\n",
    "\n",
    "# calculate the commision fee\n",
    "change_pos = pos_df.shift(-1) - pos_df\n",
    "port_df['commission'] = (abs(change_pos) * commission_per_share).sum(axis=1)\n",
    "port_df['minu_net_pnl'] = port_df['minu_pnl'] - port_df['commission']\n",
    "port_df['minu_net_ret'] = port_df['minu_net_pnl']/notional\n",
    "port_df['cum_commision'] = port_df['commission'].cumsum()\n",
    "port_df['cum_pnl'] = port_df['minu_net_pnl'].cumsum()\n"
   ]
  },
  {
   "cell_type": "code",
   "execution_count": null,
   "id": "64c70603",
   "metadata": {},
   "outputs": [],
   "source": [
    "port_df.reset_index().minu_pnl.cumsum().plot()\n",
    "port_df.reset_index().cum_pnl.plot()"
   ]
  },
  {
   "cell_type": "code",
   "execution_count": null,
   "id": "9bdd0612",
   "metadata": {},
   "outputs": [],
   "source": [
    "port_df.reset_index().minu_pnl.iloc[925:935]"
   ]
  },
  {
   "cell_type": "code",
   "execution_count": null,
   "id": "2215bd53",
   "metadata": {},
   "outputs": [],
   "source": [
    "((pos_df.shift(1) * clo_df).shift(-1)-(pos_df * clo_df)).iloc[929]"
   ]
  },
  {
   "cell_type": "code",
   "execution_count": null,
   "id": "c562082e",
   "metadata": {},
   "outputs": [],
   "source": []
  },
  {
   "cell_type": "code",
   "execution_count": null,
   "id": "b604d664",
   "metadata": {},
   "outputs": [],
   "source": [
    "port_df['cum_pnl']"
   ]
  },
  {
   "cell_type": "code",
   "execution_count": null,
   "id": "c16a4dd9",
   "metadata": {},
   "outputs": [],
   "source": []
  },
  {
   "cell_type": "code",
   "execution_count": null,
   "id": "0e23927c",
   "metadata": {},
   "outputs": [],
   "source": [
    "df_v3 = pd.concat([port_df,pos_df],axis=1).ffill()"
   ]
  },
  {
   "cell_type": "code",
   "execution_count": null,
   "id": "ceb9346b",
   "metadata": {},
   "outputs": [],
   "source": [
    "df_v3.to_csv('performance_hf_v4.csv')"
   ]
  },
  {
   "cell_type": "code",
   "execution_count": null,
   "id": "a30fd610",
   "metadata": {},
   "outputs": [],
   "source": [
    "df_v3_daily = df_v3.copy()"
   ]
  },
  {
   "cell_type": "code",
   "execution_count": null,
   "id": "aa103543",
   "metadata": {},
   "outputs": [],
   "source": [
    "for i in list(range(len(df_v3_daily.index)-2,-1,-1)):\n",
    "    if (dt.datetime.date(df_v3_daily.index[i]) == dt.datetime.date(df_v3_daily.index[i+1])):\n",
    "        df_v3_daily.drop(df_v3_daily.index[i],axis=0,inplace=True)"
   ]
  },
  {
   "cell_type": "code",
   "execution_count": null,
   "id": "84cc2d4c",
   "metadata": {},
   "outputs": [],
   "source": [
    "df_v3_daily.to_csv('performance_hf_v4_daily.csv')"
   ]
  },
  {
   "cell_type": "code",
   "execution_count": null,
   "id": "4e53b999",
   "metadata": {},
   "outputs": [],
   "source": [
    "df_v3.head(3)"
   ]
  },
  {
   "cell_type": "code",
   "execution_count": null,
   "id": "8c58bb44",
   "metadata": {},
   "outputs": [],
   "source": [
    "fig,ax = plt.subplots(figsize=(12,7))\n",
    "\n",
    "x_date = [i.strftime(\"%m/%d/%Y %H:%M:%S\") for i in df_v3.index]\n",
    "\n",
    "ax.plot(x_date,df_v3['beta'],label='beta change')\n",
    "\n",
    "ax.set_xticks(x_date[::200])\n",
    "ax.set_xticklabels(x_date[::200], rotation=45)\n",
    "\n",
    "ax.legend()"
   ]
  },
  {
   "cell_type": "code",
   "execution_count": null,
   "id": "18de8edc",
   "metadata": {},
   "outputs": [],
   "source": [
    "import yfinance as yf\n",
    "\n",
    "import xgboost as xgb\n",
    "from sklearn.model_selection import train_test_split\n",
    "from sklearn.preprocessing import OneHotEncoder\n",
    "\n",
    "import numpy as np\n",
    "import pandas as pd\n",
    "import datetime as dt\n",
    "\n",
    "import matplotlib.pyplot as plt\n",
    "import seaborn as sns\n",
    "sns.set_theme()\n",
    "\n",
    "from sklearn.metrics import accuracy_score\n",
    "\n",
    "import matplotlib as mpl\n",
    "COLOR = 'white'\n",
    "mpl.rcParams['text.color'] = COLOR\n",
    "mpl.rcParams['axes.labelcolor'] = COLOR\n",
    "mpl.rcParams['xtick.color'] = COLOR\n",
    "mpl.rcParams['ytick.color'] = COLOR\n",
    "df_v3 = pd.read_csv('performance_hf_v3.csv')"
   ]
  },
  {
   "cell_type": "code",
   "execution_count": null,
   "id": "f8479302",
   "metadata": {},
   "outputs": [],
   "source": [
    "bgd = '0.28'\n",
    "\n",
    "\n",
    "β_mean = df_v3['beta'].mean()\n",
    "β_std = df_v3['beta'].std()\n",
    "\n",
    "fig,ax = plt.subplots(figsize=(12,7))\n",
    "\n",
    "ax.hist(df_v3['beta'],bins=30,color='0.75')\n",
    "max_ylim = ax.get_ylim()[1]\n",
    "\n",
    "ax.axvline(β_mean, \n",
    "           color='w', \n",
    "           linestyle='dashed', \n",
    "           linewidth=1)\n",
    "ax.fill_betweenx([0,max_ylim*0.9489],        # y axis interval     \n",
    "                 β_mean-1.96*β_std,         # x interval lower bound\n",
    "                 β_mean+1.96*β_std,         # x interval upper bound\n",
    "                 color='w',                  # shadow color\n",
    "                 alpha=0.2)                  # transparency\n",
    "\n",
    "\n",
    "#ax.axvline(β_std +  color='k', linestyle='dashed', linewidth=1)\n",
    "\n",
    "ax.set_xlim(left=-1,right=0.5)\n",
    "\n",
    "ax.text(β_mean*1.27,                                      # x axis location\n",
    "        -50,                                              # y axis location\n",
    "        '{:.2f}'.format(df_v3['beta'].mean()),            # text content\n",
    "        color='w')      \n",
    "\n",
    "ax.text((β_mean-1.96*β_std)*1.07,                               \n",
    "        -50,                                             \n",
    "        '{:.2f}'.format(β_mean-1.96*β_std),\n",
    "       color='w')     \n",
    "\n",
    "ax.text((β_mean+1.96*β_std)*0.93,                               \n",
    "        -50,                                             \n",
    "        '{:.2f}'.format(β_mean+1.96*β_std),\n",
    "       color='w')     \n",
    "\n",
    "\n",
    "\n",
    "ax.set_xlabel(r'Equity Portfolio $\\beta$')\n",
    "ax.set_ylabel('Frequency')\n",
    "ax.set_title(r'Frequency of $\\beta$ in Our Dynamic Portfolio')\n",
    "ax.set_facecolor('0.28')\n",
    "fig.set_facecolor(bgd)\n",
    "ax.title.set_size(20)\n"
   ]
  },
  {
   "cell_type": "code",
   "execution_count": null,
   "id": "1f66b80d",
   "metadata": {},
   "outputs": [],
   "source": [
    "df_v3['beta'].std()"
   ]
  },
  {
   "cell_type": "code",
   "execution_count": null,
   "id": "e40cd138",
   "metadata": {},
   "outputs": [],
   "source": [
    "np.array([type(x_date[i]) == str for i in range(len(x_date))]).min()"
   ]
  },
  {
   "cell_type": "code",
   "execution_count": null,
   "id": "0f756e15",
   "metadata": {},
   "outputs": [],
   "source": []
  },
  {
   "cell_type": "code",
   "execution_count": null,
   "id": "0e174eba",
   "metadata": {},
   "outputs": [],
   "source": [
    "test_df\n"
   ]
  },
  {
   "cell_type": "code",
   "execution_count": null,
   "id": "a149dda4",
   "metadata": {},
   "outputs": [],
   "source": [
    "test_df.columns = test_df.columns.swaplevel(0, 1)\n",
    "test_df.sort_index(axis=1, level=0, inplace=True)\n",
    "test_df"
   ]
  },
  {
   "cell_type": "code",
   "execution_count": null,
   "id": "87a78b8a",
   "metadata": {},
   "outputs": [],
   "source": [
    "test_df.AAP"
   ]
  },
  {
   "cell_type": "code",
   "execution_count": null,
   "id": "964290aa",
   "metadata": {},
   "outputs": [],
   "source": []
  },
  {
   "cell_type": "code",
   "execution_count": null,
   "id": "189a4062-3a68-4171-b668-6cccfe36dc7a",
   "metadata": {},
   "outputs": [],
   "source": []
  },
  {
   "cell_type": "code",
   "execution_count": null,
   "id": "072f798f-ecc4-4092-a056-4acac50ac26b",
   "metadata": {},
   "outputs": [],
   "source": []
  },
  {
   "cell_type": "code",
   "execution_count": null,
   "id": "abdc3a1d-07b6-4ad8-a93e-03bda0ad009f",
   "metadata": {},
   "outputs": [],
   "source": []
  }
 ],
 "metadata": {
  "kernelspec": {
   "display_name": "Python 3 (ipykernel)",
   "language": "python",
   "name": "python3"
  },
  "language_info": {
   "codemirror_mode": {
    "name": "ipython",
    "version": 3
   },
   "file_extension": ".py",
   "mimetype": "text/x-python",
   "name": "python",
   "nbconvert_exporter": "python",
   "pygments_lexer": "ipython3",
   "version": "3.8.13"
  },
  "toc": {
   "base_numbering": 1,
   "nav_menu": {},
   "number_sections": true,
   "sideBar": true,
   "skip_h1_title": false,
   "title_cell": "Table of Contents",
   "title_sidebar": "Contents",
   "toc_cell": false,
   "toc_position": {},
   "toc_section_display": true,
   "toc_window_display": false
  },
  "varInspector": {
   "cols": {
    "lenName": 16,
    "lenType": 16,
    "lenVar": 40
   },
   "kernels_config": {
    "python": {
     "delete_cmd_postfix": "",
     "delete_cmd_prefix": "del ",
     "library": "var_list.py",
     "varRefreshCmd": "print(var_dic_list())"
    },
    "r": {
     "delete_cmd_postfix": ") ",
     "delete_cmd_prefix": "rm(",
     "library": "var_list.r",
     "varRefreshCmd": "cat(var_dic_list()) "
    }
   },
   "types_to_exclude": [
    "module",
    "function",
    "builtin_function_or_method",
    "instance",
    "_Feature"
   ],
   "window_display": false
  }
 },
 "nbformat": 4,
 "nbformat_minor": 5
}
